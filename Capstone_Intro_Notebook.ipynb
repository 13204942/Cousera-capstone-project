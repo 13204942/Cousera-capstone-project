{
    "cells": [
        {
            "cell_type": "markdown",
            "metadata": {
                "collapsed": true
            },
            "source": "## Capstone Project Notebook"
        },
        {
            "cell_type": "markdown",
            "metadata": {},
            "source": "### Enable access to GitHub from your account\n\nBefore you can publish notebooks on GitHub, you must enable your Watson Studio app to access GitHub. You enable access by creating a personal access token with the required access scope in GitHub and linking the token to your Watson Studio app.\n\nFollow these steps to create a personal access token:\n\n1. Navigate to your Watson Studio account settings, and click the **Integrations** tab.\n2. Click the GitHub personal access tokens link on the dialog and generate a new token.\n3. On the New personal access token page, select repo scope and then click to generate a token.\n4. Copy the generated access token and paste it in the GitHub integration dialog window in Watson Studio."
        },
        {
            "cell_type": "markdown",
            "metadata": {},
            "source": "### Link a project to a GitHub repository\n\nAfter you have saved the access token, your project in Watson Studio must be connected to an existing GitHub repository. You can only link to one existing GitHub repository from a project in Watson Studio. Private repositories are supported.\n\nTo link a Watson Studio project to an existing GitHub repository, you must have administrator permission to the project. All project collaborators, who have adminstrator or editor permission, can publish files to this GitHub repository. However, these users must have permission to access the repository. Granting user permissions to repositories must be done in GitHub.\n\nTo connect a project to an existing GitHub repository:\n\n1. Go to the project\u2019s **Settings** page.\n2. Enter the browser URL of the GitHub repository in the GitHub Respository section."
        },
        {
            "cell_type": "markdown",
            "metadata": {},
            "source": "Now you can begin publishing notebooks on GitHub."
        },
        {
            "cell_type": "markdown",
            "metadata": {},
            "source": "### Publish a notebook on Github\n\nTo publish a notebook, you can:\n\n* Select the notebook in the Notebooks list on the project\u2019s Overview page and click **Actions>Publish on GitHub**.\n* Click the upload icon and select **Publish on GitHub** from the opened notebook\u2019s action bar. The notebook must be opened in edit mode.\n\nWhen you enter the name of the file you want to publish on GitHub, you can specify a folder path in the GitHub repository."
        }
    ],
    "metadata": {
        "kernelspec": {
            "display_name": "Python 3.6",
            "language": "python",
            "name": "python3"
        },
        "language_info": {
            "codemirror_mode": {
                "name": "ipython",
                "version": 3
            },
            "file_extension": ".py",
            "mimetype": "text/x-python",
            "name": "python",
            "nbconvert_exporter": "python",
            "pygments_lexer": "ipython3",
            "version": "3.6.9"
        }
    },
    "nbformat": 4,
    "nbformat_minor": 1
}